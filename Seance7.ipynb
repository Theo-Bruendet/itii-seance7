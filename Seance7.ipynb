{
  "nbformat": 4,
  "nbformat_minor": 0,
  "metadata": {
    "kernelspec": {
      "display_name": "Python 3",
      "language": "python",
      "name": "python3"
    },
    "language_info": {
      "codemirror_mode": {
        "name": "ipython",
        "version": 3
      },
      "file_extension": ".py",
      "mimetype": "text/x-python",
      "name": "python",
      "nbconvert_exporter": "python",
      "pygments_lexer": "ipython3",
      "version": "3.7.6"
    },
    "colab": {
      "name": "Seance7.ipynb",
      "provenance": []
    }
  },
  "cells": [
    {
      "cell_type": "markdown",
      "metadata": {
        "id": "FLxEXwjwGDo2"
      },
      "source": [
        "En utilisant numpy:"
      ]
    },
    {
      "cell_type": "markdown",
      "metadata": {
        "id": "m-3PbzB7GDo2"
      },
      "source": [
        "Ex 1 :Addition\n",
        "Écrire un programme pour lire les éléments de deux matrices et ajoutez les deux matrices dans la troisième.\n",
        "\n",
        "La somme de deux matrices de taille (m,n), (A_{ij}) et (B_{ij}) notée A+B  est à nouveau une matrice (C_{ij}) de taille (m,n), obtenue en additionnant les éléments correspondants: $c_{ij}=a_{ij}+b_{ij}$\n",
        "\n"
      ]
    },
    {
      "cell_type": "code",
      "metadata": {
        "id": "DXNrZ-i9GDo2",
        "outputId": "ce9f6d1d-9742-487e-f313-e709404ccf7a",
        "colab": {
          "base_uri": "https://localhost:8080/"
        }
      },
      "source": [
        "import numpy as np\n",
        " \n",
        "A = np.array([ [3, 1, 5], [9, 8, -1], [10, 12, 2] ])\n",
        "B = np.array([ [8, -1, 8], [2, 1, 3], [18, 2, 32] ])\n",
        "C = A+B\n",
        "\n",
        " \n",
        "print(\"A :\\n\", A)\n",
        "print(\"B :\\n\", B)\n",
        "print(\"A * B :\\n\", C)"
      ],
      "execution_count": 6,
      "outputs": [
        {
          "output_type": "stream",
          "text": [
            "A :\n",
            " [[ 3  1  5]\n",
            " [ 9  8 -1]\n",
            " [10 12  2]]\n",
            "B :\n",
            " [[ 8 -1  8]\n",
            " [ 2  1  3]\n",
            " [18  2 32]]\n",
            "A * B :\n",
            " [[11  0 13]\n",
            " [11  9  2]\n",
            " [28 14 34]]\n"
          ],
          "name": "stdout"
        }
      ]
    },
    {
      "cell_type": "markdown",
      "metadata": {
        "id": "LZ15VBIsGDo3"
      },
      "source": [
        "Ex2 :Multiplication\n",
        "Écrire un programme pour lire les éléments de deux matrices, puis multipliez les deux matrices dans la troisième.\n",
        "\n",
        "Deux matrices ne peuvent être multipliées que si le nombre de colonnes de la première matrice est le même que le nombre de lignes de la seconde matrice.\n",
        "\n",
        "Si $ A=(a_{ij})$ est une matrice de taille (m,n), $ B=(b_{ij})$ et est une matrice de taille (n,p), alors leur produit, noté $AB=(c_{ij})$ est une matrice de taille (m,p) définie par :\n",
        "$$\\forall i,j : c_{ij}=\\sum_{k=i}^{n} a_{ik}*b_{kj}$$"
      ]
    },
    {
      "cell_type": "code",
      "metadata": {
        "id": "b5fzdeLeGDo3",
        "outputId": "f5211034-5b62-4177-f493-0e17bf7e5b27",
        "colab": {
          "base_uri": "https://localhost:8080/"
        }
      },
      "source": [
        "import numpy as np\n",
        " \n",
        "A = np.array([ [3, 1, 5], [9, 8, -1], [10, 12, 2] ])\n",
        "B = np.array([ [8, -1, 8], [2, 1, 3], [18, 2, 32] ])\n",
        "C = A.dot(B)\n",
        "\n",
        " \n",
        "print(\"A :\\n\", A)\n",
        "\n",
        "print(\"B :\\n\", B)\n",
        "print(\"A * B :\\n\", C)"
      ],
      "execution_count": 8,
      "outputs": [
        {
          "output_type": "stream",
          "text": [
            "A :\n",
            " [[ 3  1  5]\n",
            " [ 9  8 -1]\n",
            " [10 12  2]]\n",
            "B :\n",
            " [[ 8 -1  8]\n",
            " [ 2  1  3]\n",
            " [18  2 32]]\n",
            "A * B :\n",
            " [[116   8 187]\n",
            " [ 70  -3  64]\n",
            " [140   6 180]]\n"
          ],
          "name": "stdout"
        }
      ]
    },
    {
      "cell_type": "markdown",
      "metadata": {
        "id": "qln0wzufGDo3"
      },
      "source": [
        "Ex 3: Matrice de Markov\n",
        "\n",
        "Une matrice de Markov est une matrice carrée dont chaque élément est un réel compris entre 0 et 1 et dont la somme des éléments de chaque ligne vaut 1. Cela correspond, en probabilité, à la matrice de transition d'une chaîne de Markov finie.\n",
        "\n",
        "Une matrice est dite bistochastique (ou doublement stochastique) si la somme des éléments de chaque ligne et de chaque colonne vaut 1.\n",
        "\n",
        "1. Ecrire une fonction eststochastique(P) qui permet de vérifier est ce que la matrice P est stochastique ou non\n",
        "2. Ecrire une fonction estbistochastique(P) qui permet de vérifier est ce que la matrice P est bistochastique ou non\n",
        "3. Ecrire une fonction vecteurstable(G, h) qui permet de vérifier est ce que h est un vecteur stable de G ou non\n",
        "\n"
      ]
    },
    {
      "cell_type": "code",
      "metadata": {
        "id": "wg8CuBe1GDo3",
        "outputId": "4e2b78cf-1a58-40c5-a383-8718c25fde31",
        "colab": {
          "base_uri": "https://localhost:8080/"
        }
      },
      "source": [
        "\n",
        "import numpy as np\n",
        "\n",
        "def eststochastique(P):\n",
        "    nl = len(P)  # nombre de lignes\n",
        "    nc = len(P[0])  # nombre de colonnes\n",
        " \n",
        "    etat = True  # on suppose que la matrice est stochastique\n",
        "    for i in range(nl):\n",
        "        s = 0\n",
        "        for j in range(nc):\n",
        "            s += P[i][j]\n",
        "        if s > 1:\n",
        "            etat = False\n",
        "            break\n",
        "    return etat\n",
        " \n",
        "A = np.array([ [0.5, 0.3, 0.2], [2, 0, -1], [3, 4, -6] ])\n",
        "eststochastique(A)"
      ],
      "execution_count": 17,
      "outputs": [
        {
          "output_type": "execute_result",
          "data": {
            "text/plain": [
              "True"
            ]
          },
          "metadata": {
            "tags": []
          },
          "execution_count": 17
        }
      ]
    },
    {
      "cell_type": "code",
      "metadata": {
        "id": "A6x1b4e_KJ8o",
        "outputId": "80139535-c839-4f80-8d37-d371aa5ede70",
        "colab": {
          "base_uri": "https://localhost:8080/"
        }
      },
      "source": [
        "import numpy as np\n",
        "\n",
        "def estbistochastique(P):\n",
        "    nl = len(P)  # nombre de lignes\n",
        "    nc = len(P[0])  # nombre de colonnes\n",
        " \n",
        "    etat = True  # on suppose que la matrice est bistochastique\n",
        "    if(eststochastique(P)):\n",
        "        for j in range(nc):\n",
        "            s = 0\n",
        "            for i in range(nl):\n",
        "                s += P[i][j]\n",
        "            if s > 1:\n",
        "                etat = False\n",
        "                break\n",
        "    return etat\n",
        " \n",
        "A = np.array([ [1, 0, 0], [0, 1, 0], [0, 0, 1] ])\n",
        "estbistochastique(A)"
      ],
      "execution_count": 19,
      "outputs": [
        {
          "output_type": "execute_result",
          "data": {
            "text/plain": [
              "True"
            ]
          },
          "metadata": {
            "tags": []
          },
          "execution_count": 19
        }
      ]
    },
    {
      "cell_type": "code",
      "metadata": {
        "id": "NO_MfzCvKvC0"
      },
      "source": [
        "\n",
        "def vecteurstable(G, h):\n",
        "    nl = len(G)  # nombre de lignes\n",
        "    nc = len(G[0])  # nombre de colonnes\n",
        "    etat = True\n",
        "    if(eststochastique(G)):\n",
        "        for j in range(nc):\n",
        "            s = 0\n",
        "            for i in range(nl):\n",
        "                s += h[i]*G[i][j]\n",
        "            if s != h[j]:\n",
        "                etat = False\n",
        "                break\n",
        "    else:\n",
        "        etat = False\n",
        "    return etat\n",
        "\n"
      ],
      "execution_count": 21,
      "outputs": []
    },
    {
      "cell_type": "markdown",
      "metadata": {
        "id": "c3624ft9GDo4"
      },
      "source": [
        "Ex 4: Transposer\n",
        "\n",
        "Programmer une fonction qui, étant donné une matrice à deux dimensions A, retourne lamatrice B dont la première colonne est la première ligne de A, la seconde la deuxième ligne de A, etc. B s’appelle la transposée de A."
      ]
    },
    {
      "cell_type": "code",
      "metadata": {
        "id": "BcmSplmFGDo4",
        "outputId": "06a18ebf-fc3b-4d47-b64c-d8609129dd09",
        "colab": {
          "base_uri": "https://localhost:8080/"
        }
      },
      "source": [
        "import numpy as np\n",
        " \n",
        "A = np.array([ [3, 1, 5], [9, 8, -1], [18, 12, 2] ])\n",
        " \n",
        "C = A.transpose()\n",
        " \n",
        "print(\"A :\\n\", A)\n",
        "print(\"\\nTransposée de A :\\n\", C)"
      ],
      "execution_count": 11,
      "outputs": [
        {
          "output_type": "stream",
          "text": [
            "A :\n",
            " [[ 3  1  5]\n",
            " [ 9  8 -1]\n",
            " [18 12  2]]\n",
            "\n",
            "Transposée de A :\n",
            " [[ 3  9 18]\n",
            " [ 1  8 12]\n",
            " [ 5 -1  2]]\n"
          ],
          "name": "stdout"
        }
      ]
    },
    {
      "cell_type": "markdown",
      "metadata": {
        "id": "GprVnea9GDo4"
      },
      "source": [
        "Ex 5: Permutations\n",
        "1. $M$ désignant une matrice quelconque d’entiers à $l_i$ lignes et $co$ colonnes, $n$ un entier quelconque, programmer une fonction qui retourne la matrice $Sortie$ qui empile verticalement les $co+1$ matrices obtenues en adjoignant à $M$ une colonne $A$ à $li$ lignes dont tousles éléments sont égaux à $n$, $A$ étant placée d’abord devant $M$, puis entre la première et deuxième colonne de $M^a$,etc, jusqu’à ce que $A$ devienne sa dernière colonne. La matriceobtenue  aura $co+1$ colonnes et $(n+1)$ $li$ lignes\n",
        "\n",
        "2. Écrire toutes les permutations de(1, ..., n)"
      ]
    }
  ]
}